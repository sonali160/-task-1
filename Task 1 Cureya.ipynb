{
 "cells": [
  {
   "cell_type": "code",
   "execution_count": 1,
   "id": "52dccbaa",
   "metadata": {},
   "outputs": [
    {
     "name": "stdout",
     "output_type": "stream",
     "text": [
      "['physics', 'chemistry', 1997, 2000]\n",
      "[1, 2, 3, 4, 5]\n",
      "['a', 'b', 'c', 'd']\n"
     ]
    }
   ],
   "source": [
    "#List\n",
    "\n",
    "\n",
    "list1 = ['physics', 'chemistry', 1997, 2000];\n",
    "list2 = [1, 2, 3, 4, 5 ];\n",
    "list3 = [\"a\", \"b\", \"c\", \"d\"]\n",
    "print(list1)\n",
    "print(list2)\n",
    "print(list3)"
   ]
  },
  {
   "cell_type": "code",
   "execution_count": 5,
   "id": "6f06809d",
   "metadata": {},
   "outputs": [
    {
     "name": "stdout",
     "output_type": "stream",
     "text": [
      "('physics', 'chemistry', 1997, 2000)\n",
      "(1, 2, 3, 4, 5)\n",
      "('a', 'b', 'c', 'd')\n",
      "()\n"
     ]
    }
   ],
   "source": [
    "tup1 = ('physics', 'chemistry', 1997, 2000);\n",
    "tup2 = (1, 2, 3, 4, 5 );\n",
    "tup3 = \"a\", \"b\", \"c\", \"d\";\n",
    "#The empty tuple is written as two parentheses containing nothing −\n",
    "tup4 = ();\n",
    "print(tup1)\n",
    "print(tup2)\n",
    "print(tup3)\n",
    "print(tup4)\n"
   ]
  },
  {
   "cell_type": "code",
   "execution_count": 7,
   "id": "cddbe74f",
   "metadata": {},
   "outputs": [
    {
     "name": "stdout",
     "output_type": "stream",
     "text": [
      "{}\n",
      "{1: 'apple', 2: 'ball'}\n",
      "{'name': 'John', 1: [2, 4, 3]}\n",
      "{1: 'apple', 2: 'ball'}\n",
      "Number of ticks since 12:00am, January 1, 1970: 1625838956.1680367\n"
     ]
    }
   ],
   "source": [
    "#Dictionary\n",
    "\n",
    "# empty dictionary\n",
    "my_dict = {}\n",
    "print(my_dict)\n",
    "\n",
    "# dictionary with integer keys\n",
    "my_dict1 = {1: 'apple', 2: 'ball'}\n",
    "print(my_dict1)\n",
    "\n",
    "# dictionary with mixed keys\n",
    "my_dict2 = {'name': 'John', 1: [2, 4, 3]}\n",
    "print(my_dict2)\n",
    "\n",
    "# using dict()\n",
    "my_dict3 = dict({1:'apple', 2:'ball'})\n",
    "print(my_dict3)\n",
    "\n",
    "#date and time\n",
    "\n",
    "import time;  # This is required to include time module.\n",
    "\n",
    "ticks = time.time()\n",
    "print (\"Number of ticks since 12:00am, January 1, 1970:\", ticks)"
   ]
  },
  {
   "cell_type": "code",
   "execution_count": 3,
   "id": "aad2e276",
   "metadata": {},
   "outputs": [
    {
     "name": "stdout",
     "output_type": "stream",
     "text": [
      "The sum of 1.5 and 6.3 is 7.8\n",
      "The subtract of 67.9 and 56.8 is 11.100000000000009\n"
     ]
    }
   ],
   "source": [
    "\n",
    "\n",
    "# This program adds two numbers\n",
    "\n",
    "num1 = 1.5\n",
    "num2 = 6.3\n",
    "\n",
    "# Add two numbers\n",
    "sum = num1 + num2\n",
    "\n",
    "# Display the sum\n",
    "print('The sum of {0} and {1} is {2}'.format(num1, num2, sum))\n",
    "\n",
    "\n",
    "\n",
    "# This program sub two numbers\n",
    "num1=56.8; \n",
    "num2=67.9;\n",
    "#Subtract two numbers\n",
    "sub=num2-num1;\n",
    "#display the result of substraction\n",
    "print(\"The subtract of {0} and {1} is {2}\".format(num2,num1,sub) )"
   ]
  },
  {
   "cell_type": "code",
   "execution_count": 5,
   "id": "3cdb7f3d",
   "metadata": {},
   "outputs": [
    {
     "name": "stdout",
     "output_type": "stream",
     "text": [
      "The largest number is: 10\n",
      "The smallest number is: 2\n"
     ]
    }
   ],
   "source": [
    "\n",
    "\n",
    "number = [3, 2, 8, 5, 10, 6]\n",
    "largest_number = max(number);\n",
    "\n",
    "print(\"The largest number is:\", largest_number)\n",
    "\n",
    "\n",
    "number = [3, 2, 8, 5, 10, 6]\n",
    "smallest_number = min(number);\n",
    "\n",
    "print(\"The smallest number is:\", smallest_number)"
   ]
  },
  {
   "cell_type": "code",
   "execution_count": 4,
   "id": "a6e331cd",
   "metadata": {},
   "outputs": [
    {
     "name": "stdout",
     "output_type": "stream",
     "text": [
      "Value of expression is 100\n"
     ]
    }
   ],
   "source": [
    "var = 100\n",
    "if ( var == 100 ):\n",
    " print( \"Value of expression is 100\")\n",
    "else:\n",
    " print (\"Good bye!\")"
   ]
  },
  {
   "cell_type": "code",
   "execution_count": 6,
   "id": "a2e960a7",
   "metadata": {},
   "outputs": [
    {
     "name": "stdout",
     "output_type": "stream",
     "text": [
      "a and b are equal\n"
     ]
    }
   ],
   "source": [
    "#Elif Statement\n",
    "a = 200\n",
    "b = 200\n",
    "if b > a:\n",
    "  print(\"b is greater than a\")\n",
    "elif a == b:\n",
    "  print(\"a and b are equal\")\n",
    "else:\n",
    "  print(\"a is greater than b\")\n"
   ]
  },
  {
   "cell_type": "code",
   "execution_count": 7,
   "id": "0cc8c0b8",
   "metadata": {},
   "outputs": [
    {
     "name": "stdout",
     "output_type": "stream",
     "text": [
      "2\n",
      "3\n",
      "4\n",
      "5\n",
      "6\n"
     ]
    }
   ],
   "source": [
    "x=0\n",
    "#Define a for loop \n",
    "for x in range(2,7):\n",
    "\t\tprint(x)"
   ]
  },
  {
   "cell_type": "code",
   "execution_count": 9,
   "id": "1f45c32e",
   "metadata": {},
   "outputs": [
    {
     "name": "stdout",
     "output_type": "stream",
     "text": [
      "0\n",
      "1\n",
      "2\n",
      "3\n"
     ]
    }
   ],
   "source": [
    "x=0\n",
    "#define a while loop\n",
    "while(x <4):\n",
    "    print (x)\n",
    "    x = x+1"
   ]
  },
  {
   "cell_type": "code",
   "execution_count": 11,
   "id": "db2f3963",
   "metadata": {},
   "outputs": [
    {
     "name": "stdout",
     "output_type": "stream",
     "text": [
      "Requirement already satisfied: pandas in c:\\users\\hp\\appdata\\local\\programs\\python\\python37\\lib\\site-packages (1.3.0)\n",
      "Requirement already satisfied: numpy>=1.17.3 in c:\\users\\hp\\appdata\\local\\programs\\python\\python37\\lib\\site-packages (from pandas) (1.21.0)\n",
      "Requirement already satisfied: python-dateutil>=2.7.3 in c:\\users\\hp\\appdata\\local\\programs\\python\\python37\\lib\\site-packages (from pandas) (2.8.1)\n",
      "Requirement already satisfied: pytz>=2017.3 in c:\\users\\hp\\appdata\\local\\programs\\python\\python37\\lib\\site-packages (from pandas) (2021.1)\n",
      "Requirement already satisfied: six>=1.5 in c:\\users\\hp\\appdata\\local\\programs\\python\\python37\\lib\\site-packages (from python-dateutil>=2.7.3->pandas) (1.16.0)\n"
     ]
    },
    {
     "name": "stderr",
     "output_type": "stream",
     "text": [
      "You are using pip version 19.0.3, however version 21.1.3 is available.\n",
      "You should consider upgrading via the 'python -m pip install --upgrade pip' command.\n"
     ]
    },
    {
     "name": "stdout",
     "output_type": "stream",
     "text": [
      "Requirement already satisfied: sklearn in c:\\users\\hp\\appdata\\local\\programs\\python\\python37\\lib\\site-packages (0.0)"
     ]
    },
    {
     "name": "stderr",
     "output_type": "stream",
     "text": [
      "You are using pip version 19.0.3, however version 21.1.3 is available.\n",
      "You should consider upgrading via the 'python -m pip install --upgrade pip' command.\n"
     ]
    },
    {
     "name": "stdout",
     "output_type": "stream",
     "text": [
      "\n",
      "Requirement already satisfied: scikit-learn in c:\\users\\hp\\appdata\\local\\programs\\python\\python37\\lib\\site-packages (from sklearn) (0.24.2)\n",
      "Requirement already satisfied: joblib>=0.11 in c:\\users\\hp\\appdata\\local\\programs\\python\\python37\\lib\\site-packages (from scikit-learn->sklearn) (1.0.1)\n",
      "Requirement already satisfied: scipy>=0.19.1 in c:\\users\\hp\\appdata\\local\\programs\\python\\python37\\lib\\site-packages (from scikit-learn->sklearn) (1.7.0)\n",
      "Requirement already satisfied: threadpoolctl>=2.0.0 in c:\\users\\hp\\appdata\\local\\programs\\python\\python37\\lib\\site-packages (from scikit-learn->sklearn) (2.1.0)\n",
      "Requirement already satisfied: numpy>=1.13.3 in c:\\users\\hp\\appdata\\local\\programs\\python\\python37\\lib\\site-packages (from scikit-learn->sklearn) (1.21.0)\n",
      "Requirement already satisfied: numpy in c:\\users\\hp\\appdata\\local\\programs\\python\\python37\\lib\\site-packages (1.21.0)"
     ]
    },
    {
     "name": "stderr",
     "output_type": "stream",
     "text": [
      "You are using pip version 19.0.3, however version 21.1.3 is available.\n",
      "You should consider upgrading via the 'python -m pip install --upgrade pip' command.\n"
     ]
    },
    {
     "name": "stdout",
     "output_type": "stream",
     "text": [
      "\n",
      "Requirement already satisfied: matplotlib in c:\\users\\hp\\appdata\\local\\programs\\python\\python37\\lib\\site-packages (3.4.2)\n",
      "Requirement already satisfied: pyparsing>=2.2.1 in c:\\users\\hp\\appdata\\local\\programs\\python\\python37\\lib\\site-packages (from matplotlib) (2.4.7)\n",
      "Requirement already satisfied: numpy>=1.16 in c:\\users\\hp\\appdata\\local\\programs\\python\\python37\\lib\\site-packages (from matplotlib) (1.21.0)\n",
      "Requirement already satisfied: cycler>=0.10 in c:\\users\\hp\\appdata\\local\\programs\\python\\python37\\lib\\site-packages (from matplotlib) (0.10.0)\n",
      "Requirement already satisfied: pillow>=6.2.0 in c:\\users\\hp\\appdata\\local\\programs\\python\\python37\\lib\\site-packages (from matplotlib) (8.3.1)\n",
      "Requirement already satisfied: kiwisolver>=1.0.1 in c:\\users\\hp\\appdata\\local\\programs\\python\\python37\\lib\\site-packages (from matplotlib) (1.3.1)\n",
      "Requirement already satisfied: python-dateutil>=2.7 in c:\\users\\hp\\appdata\\local\\programs\\python\\python37\\lib\\site-packages (from matplotlib) (2.8.1)\n",
      "Requirement already satisfied: six in c:\\users\\hp\\appdata\\local\\programs\\python\\python37\\lib\\site-packages (from cycler>=0.10->matplotlib) (1.16.0)\n"
     ]
    },
    {
     "name": "stderr",
     "output_type": "stream",
     "text": [
      "You are using pip version 19.0.3, however version 21.1.3 is available.\n",
      "You should consider upgrading via the 'python -m pip install --upgrade pip' command.\n"
     ]
    }
   ],
   "source": [
    "!pip install pandas\n",
    "!pip install sklearn\n",
    "!pip install numpy\n",
    "!pip install matplotlib"
   ]
  },
  {
   "cell_type": "code",
   "execution_count": 28,
   "id": "dc415b78",
   "metadata": {},
   "outputs": [
    {
     "name": "stdout",
     "output_type": "stream",
     "text": [
      "Sum of arr:  36\n",
      "Mean of arr:  4.0\n",
      "Median of arr:  4.0\n",
      "Standard deviation of arr:  2.1081851067789197\n",
      "Variance of arr:  4.444444444444445\n",
      "Max value of arr:  9\n",
      "Matrix p :\n",
      "[[1, 2], [2, 3]]\n",
      "Matrix q :\n",
      "[[4, 5], [6, 7]]\n",
      "The matrix multiplication is :\n",
      "[[16 19]\n",
      " [26 31]]\n"
     ]
    }
   ],
   "source": [
    "\n",
    "# importing the module\n",
    "import numpy as np\n",
    "arr = [2, 5, 4, 9, 2, 5, 2, 4, 3]\n",
    "print(\"Sum of arr: \", np.sum(arr))\n",
    "print(\"Mean of arr: \", np.mean(arr))\n",
    "print(\"Median of arr: \", np.median(arr))\n",
    "print(\"Standard deviation of arr: \", np.std(arr))\n",
    "print(\"Variance of arr: \", np.var(arr))\n",
    "print(\"Max value of arr: \", np.max(arr))\n",
    "  \n",
    "# creating two matrices\n",
    "p = [[1, 2], [2, 3]]\n",
    "q = [[4, 5], [6, 7]]\n",
    "print(\"Matrix p :\")\n",
    "print(p)\n",
    "print(\"Matrix q :\")\n",
    "print(q)\n",
    "  \n",
    "# computing product\n",
    "result = np.dot(p, q)\n",
    "  \n",
    "# printing the result\n",
    "print(\"The matrix multiplication is :\")\n",
    "print(result)"
   ]
  },
  {
   "cell_type": "code",
   "execution_count": 17,
   "id": "c3e69aed",
   "metadata": {},
   "outputs": [
    {
     "name": "stdout",
     "output_type": "stream",
     "text": [
      "[[ 0.17647059 -0.00326797 -0.02287582]\n",
      " [ 0.05882353 -0.13071895  0.08496732]\n",
      " [-0.11764706  0.1503268   0.05228758]]\n"
     ]
    }
   ],
   "source": [
    "\n",
    "# Python program to inverse\n",
    "# a matrix using numpy\n",
    "  \n",
    "# Import required package\n",
    "import numpy as np\n",
    "  \n",
    "# Taking a 3 * 3 matrix\n",
    "A = np.array([[6, 1, 1],\n",
    "              [4, -2, 5],\n",
    "              [2, 8, 7]])\n",
    "  \n",
    "# Calculating the inverse of the matrix\n",
    "print(np.linalg.inv(A))"
   ]
  },
  {
   "cell_type": "code",
   "execution_count": 30,
   "id": "804193fe",
   "metadata": {},
   "outputs": [
    {
     "name": "stdout",
     "output_type": "stream",
     "text": [
      "all age:\n",
      "   age\n",
      "0    4\n",
      "1    6\n",
      "2    8\n",
      "3   34\n",
      "4    5\n",
      "5   30\n",
      "6   41\n",
      "age above 20:\n",
      "   age\n",
      "3   34\n",
      "5   30\n",
      "6   41\n"
     ]
    }
   ],
   "source": [
    "\n",
    "import pandas as pd\n",
    "age = {'age': [4, 6, 8, 34, 5, 30, 41] }\n",
    "dataframe = pd.DataFrame(age)\n",
    "print(\"all age:\\n{}\".format(dataframe))\n",
    "filtered = dataframe[dataframe.age > 20]\n",
    "print(\"age above 20:\\n{}\".format(filtered))"
   ]
  },
  {
   "cell_type": "code",
   "execution_count": 19,
   "id": "1fbcfa67",
   "metadata": {},
   "outputs": [
    {
     "name": "stdout",
     "output_type": "stream",
     "text": [
      "  Category  Marks\n",
      "0    Array     20\n",
      "1    Stack     21\n",
      "2    Queue     19\n"
     ]
    }
   ],
   "source": [
    "# Python code demonstrate creating\n",
    "# DataFrame from dict narray / lists\n",
    "# By default addresses.\n",
    " \n",
    "import pandas as pd\n",
    " \n",
    "# initialise data of lists.\n",
    "data = {'Category':['Array', 'Stack', 'Queue'],\n",
    "        'Marks':[20, 21, 19]}\n",
    " \n",
    "# Create DataFrame\n",
    "df = pd.DataFrame(data)\n",
    " \n",
    "# Print the output.\n",
    "print(df )"
   ]
  },
  {
   "cell_type": "code",
   "execution_count": 20,
   "id": "6bc99918",
   "metadata": {},
   "outputs": [
    {
     "name": "stdout",
     "output_type": "stream",
     "text": [
      "           ABCD    EFG\n",
      "ind1  dataframe  using\n",
      "ind2         10     20 \n",
      "\n",
      "           ABCD    EFG  HIJK\n",
      "indx  dataframe  using  list\n",
      "indy         10     20    30\n"
     ]
    }
   ],
   "source": [
    "\n",
    "# Python code demonstrate how to create  \n",
    "# Pandas DataFrame by lists of dicts. \n",
    "import pandas as pd \n",
    "    \n",
    "# Initialise data to lists. \n",
    "data = [{'ABCD': 'dataframe', 'EFG': 'using', 'HIJK': 'list'},\n",
    "        {'ABCD':10, 'EFG': 20, 'HIJK': 30}] \n",
    "    \n",
    "# With two column indices, values same  \n",
    "# as dictionary keys \n",
    "df1 = pd.DataFrame(data, index =['ind1', 'ind2'],\n",
    "                      columns =['ABCD', 'EFG']) \n",
    "     \n",
    "# With two column indices with  \n",
    "# one index with other name \n",
    "df2 = pd.DataFrame(data, index =['indx', 'indy']) \n",
    "     \n",
    "# print for first data frame \n",
    "print (df1, \"\\n\") \n",
    "     \n",
    "# Print for second DataFrame. \n",
    "print (df2)"
   ]
  },
  {
   "cell_type": "code",
   "execution_count": 32,
   "id": "2af247d5",
   "metadata": {},
   "outputs": [
    {
     "data": {
      "image/png": "[encoded data removed]",
      "text/plain": [
       "<Figure size 432x288 with 1 Axes>"
      ]
     },
     "metadata": {
      "needs_background": "light"
     },
     "output_type": "display_data"
    }
   ],
   "source": [
    "\n",
    "import matplotlib.pyplot as plt\n",
    "import numpy as np\n",
    "\n",
    "x = np.random.normal(170, 10, 250)\n",
    "\n",
    "plt.hist(x)\n",
    "plt.show() "
   ]
  },
  {
   "cell_type": "code",
   "execution_count": 29,
   "id": "0d9db7b9",
   "metadata": {},
   "outputs": [
    {
     "data": {
      "image/png": "[encoded data removed]",
      "text/plain": [
       "<Figure size 432x288 with 1 Axes>"
      ]
     },
     "metadata": {
      "needs_background": "light"
     },
     "output_type": "display_data"
    }
   ],
   "source": [
    "\n",
    "import matplotlib.pyplot as plt\n",
    "x = [1,2,3]\n",
    "y = [4,5,6]\n",
    "plt.scatter(x,y)\n",
    "plt.show()"
   ]
  },
  {
   "cell_type": "code",
   "execution_count": 31,
   "id": "4ec8528b",
   "metadata": {},
   "outputs": [
    {
     "data": {
      "image/png": "[encoded data removed]",
      "text/plain": [
       "<Figure size 432x288 with 1 Axes>"
      ]
     },
     "metadata": {},
     "output_type": "display_data"
    }
   ],
   "source": [
    "\n",
    "import matplotlib.pyplot as plt\n",
    "import numpy as np\n",
    "\n",
    "y = np.array([35, 25, 25, 15])\n",
    "\n",
    "plt.pie(y)\n",
    "plt.show() "
   ]
  },
  {
   "cell_type": "code",
   "execution_count": 35,
   "id": "c8ff0109",
   "metadata": {},
   "outputs": [
    {
     "data": {
      "text/html": [
       "<div>\n",
       "<style scoped>\n",
       "    .dataframe tbody tr th:only-of-type {\n",
       "        vertical-align: middle;\n",
       "    }\n",
       "\n",
       "    .dataframe tbody tr th {\n",
       "        vertical-align: top;\n",
       "    }\n",
       "\n",
       "    .dataframe thead th {\n",
       "        text-align: right;\n",
       "    }\n",
       "</style>\n",
       "<table border=\"1\" class=\"dataframe\">\n",
       "  <thead>\n",
       "    <tr style=\"text-align: right;\">\n",
       "      <th></th>\n",
       "      <th>sepal_length</th>\n",
       "      <th>sepal_width</th>\n",
       "      <th>petal_length</th>\n",
       "      <th>petal_width</th>\n",
       "      <th>species</th>\n",
       "    </tr>\n",
       "  </thead>\n",
       "  <tbody>\n",
       "    <tr>\n",
       "      <th>0</th>\n",
       "      <td>5.1</td>\n",
       "      <td>3.5</td>\n",
       "      <td>1.4</td>\n",
       "      <td>0.2</td>\n",
       "      <td>setosa</td>\n",
       "    </tr>\n",
       "    <tr>\n",
       "      <th>1</th>\n",
       "      <td>4.9</td>\n",
       "      <td>3.0</td>\n",
       "      <td>1.4</td>\n",
       "      <td>0.2</td>\n",
       "      <td>setosa</td>\n",
       "    </tr>\n",
       "    <tr>\n",
       "      <th>2</th>\n",
       "      <td>4.7</td>\n",
       "      <td>3.2</td>\n",
       "      <td>1.3</td>\n",
       "      <td>0.2</td>\n",
       "      <td>setosa</td>\n",
       "    </tr>\n",
       "    <tr>\n",
       "      <th>3</th>\n",
       "      <td>4.6</td>\n",
       "      <td>3.1</td>\n",
       "      <td>1.5</td>\n",
       "      <td>0.2</td>\n",
       "      <td>setosa</td>\n",
       "    </tr>\n",
       "    <tr>\n",
       "      <th>4</th>\n",
       "      <td>5.0</td>\n",
       "      <td>3.6</td>\n",
       "      <td>1.4</td>\n",
       "      <td>0.2</td>\n",
       "      <td>setosa</td>\n",
       "    </tr>\n",
       "  </tbody>\n",
       "</table>\n",
       "</div>"
      ],
      "text/plain": [
       "   sepal_length  sepal_width  petal_length  petal_width species\n",
       "0           5.1          3.5           1.4          0.2  setosa\n",
       "1           4.9          3.0           1.4          0.2  setosa\n",
       "2           4.7          3.2           1.3          0.2  setosa\n",
       "3           4.6          3.1           1.5          0.2  setosa\n",
       "4           5.0          3.6           1.4          0.2  setosa"
      ]
     },
     "execution_count": 35,
     "metadata": {},
     "output_type": "execute_result"
    }
   ],
   "source": [
    "\n",
    "import seaborn as sns\n",
    "iris = sns.load_dataset('iris')\n",
    "iris.head()"
   ]
  },
  {
   "cell_type": "code",
   "execution_count": 36,
   "id": "9acd0bf7",
   "metadata": {},
   "outputs": [
    {
     "data": {
      "text/plain": [
       "3.0000000000000018"
      ]
     },
     "execution_count": 36,
     "metadata": {},
     "output_type": "execute_result"
    }
   ],
   "source": [
    "import numpy as np\n",
    "from sklearn.linear_model import LinearRegression\n",
    "X = np.array([[1,1],[1,2],[2,2],[2,3]])\n",
    "y = np.dot(X, np.array([1,2])) + 3\n",
    "regr = LinearRegression(\n",
    "   fit_intercept = True, normalize = True, copy_X = True, n_jobs = 2\n",
    ").fit(X,y)\n",
    "regr.predict(np.array([[3,5]]))\n",
    "regr.score(X,y)\n",
    "regr.coef_\n",
    "regr.intercept_"
   ]
  },
  {
   "cell_type": "code",
   "execution_count": null,
   "id": "fba77b94",
   "metadata": {},
   "outputs": [],
   "source": []
  }
 ],
 "metadata": {
  "kernelspec": {
   "display_name": "Python 3 (ipykernel)",
   "language": "python",
   "name": "python3"
  },
  "language_info": {
   "codemirror_mode": {
    "name": "ipython",
    "version": 3
   },
   "file_extension": ".py",
   "mimetype": "text/x-python",
   "name": "python",
   "nbconvert_exporter": "python",
   "pygments_lexer": "ipython3",
   "version": "3.7.3"
  }
 },
 "nbformat": 4,
 "nbformat_minor": 5
}
